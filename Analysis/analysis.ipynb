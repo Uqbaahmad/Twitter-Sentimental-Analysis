{
 "cells": [
  {
   "cell_type": "code",
   "execution_count": 15,
   "metadata": {},
   "outputs": [],
   "source": [
    "import pandas as pd\n",
    "import numpy as np\n",
    "from zipfile import ZipFile\n",
    "import random"
   ]
  },
  {
   "cell_type": "code",
   "execution_count": 9,
   "metadata": {},
   "outputs": [],
   "source": [
    "file_name = 'results.zip'"
   ]
  },
  {
   "cell_type": "code",
   "execution_count": 13,
   "metadata": {},
   "outputs": [
    {
     "name": "stdout",
     "output_type": "stream",
     "text": [
      "File Name                                             Modified             Size\n",
      "__results___files/__results___20_1.png         2022-10-24 14:26:16         6914\n",
      "__results___files/__results___34_0.png         2022-10-24 14:26:16        27297\n",
      "__results___files/__results___36_0.png         2022-10-24 14:26:16        31226\n",
      "__results___files/__results___37_1.png         2022-10-24 14:26:16         6427\n",
      "__results___files/__results___39_1.png         2022-10-24 14:26:16        31129\n",
      "__results___files/__results___41_1.png         2022-10-24 14:26:16         6499\n",
      "__results___files/__results___82_0.png         2022-10-24 14:26:16        36933\n",
      "__results___files/__results___84_0.png         2022-10-24 14:26:16        28188\n",
      "__results___files/__results___86_0.png         2022-10-24 14:26:16        27651\n",
      "__results___files/__results___92_0.png         2022-10-24 14:26:16       170117\n",
      "__results___files/__results___93_0.png         2022-10-24 14:26:16       170906\n",
      "__results___files/__results___94_0.png         2022-10-24 14:26:16       185784\n",
      "models/model_neg/meta.json                     2022-10-24 14:26:16          292\n",
      "models/model_neg/ner/cfg                       2022-10-24 14:26:16          353\n",
      "models/model_neg/ner/model                     2022-10-24 14:26:16      4002728\n",
      "models/model_neg/ner/moves                     2022-10-24 14:26:16          133\n",
      "models/model_neg/tokenizer                     2022-10-24 14:26:16        81371\n",
      "models/model_neg/vocab/key2row                 2022-10-24 14:26:16            1\n",
      "models/model_neg/vocab/lexemes.bin             2022-10-24 14:26:18       973536\n",
      "models/model_neg/vocab/strings.json            2022-10-24 14:26:18       242784\n",
      "models/model_neg/vocab/vectors                 2022-10-24 14:26:18          128\n",
      "models/model_pos/meta.json                     2022-10-24 14:26:18          292\n",
      "models/model_pos/ner/cfg                       2022-10-24 14:26:18          353\n",
      "models/model_pos/ner/model                     2022-10-24 14:26:18      4002724\n",
      "models/model_pos/ner/moves                     2022-10-24 14:26:18          133\n",
      "models/model_pos/tokenizer                     2022-10-24 14:26:18        81371\n",
      "models/model_pos/vocab/key2row                 2022-10-24 14:26:18            1\n",
      "models/model_pos/vocab/lexemes.bin             2022-10-24 14:26:18       976032\n",
      "models/model_pos/vocab/strings.json            2022-10-24 14:26:18       267294\n",
      "models/model_pos/vocab/vectors                 2022-10-24 14:26:18          128\n",
      "submission.csv                                 2022-10-24 14:26:18       192349\n"
     ]
    }
   ],
   "source": [
    "with ZipFile(file_name, 'r') as zip:\n",
    "    zip.printdir()\n",
    "    zip.extractall()\n"
   ]
  },
  {
   "cell_type": "code",
   "execution_count": 14,
   "metadata": {},
   "outputs": [
    {
     "data": {
      "text/html": [
       "<div>\n",
       "<style scoped>\n",
       "    .dataframe tbody tr th:only-of-type {\n",
       "        vertical-align: middle;\n",
       "    }\n",
       "\n",
       "    .dataframe tbody tr th {\n",
       "        vertical-align: top;\n",
       "    }\n",
       "\n",
       "    .dataframe thead th {\n",
       "        text-align: right;\n",
       "    }\n",
       "</style>\n",
       "<table border=\"1\" class=\"dataframe\">\n",
       "  <thead>\n",
       "    <tr style=\"text-align: right;\">\n",
       "      <th></th>\n",
       "      <th>textID</th>\n",
       "      <th>selected_text</th>\n",
       "    </tr>\n",
       "  </thead>\n",
       "  <tbody>\n",
       "    <tr>\n",
       "      <th>0</th>\n",
       "      <td>f87dea47db</td>\n",
       "      <td>Last session of the day  http://twitpic.com/67ezh</td>\n",
       "    </tr>\n",
       "    <tr>\n",
       "      <th>1</th>\n",
       "      <td>96d74cb729</td>\n",
       "      <td>exciting</td>\n",
       "    </tr>\n",
       "    <tr>\n",
       "      <th>2</th>\n",
       "      <td>eee518ae67</td>\n",
       "      <td>Recession</td>\n",
       "    </tr>\n",
       "    <tr>\n",
       "      <th>3</th>\n",
       "      <td>01082688c6</td>\n",
       "      <td>happy bday!</td>\n",
       "    </tr>\n",
       "    <tr>\n",
       "      <th>4</th>\n",
       "      <td>33987a8ee5</td>\n",
       "      <td>I like it!!</td>\n",
       "    </tr>\n",
       "  </tbody>\n",
       "</table>\n",
       "</div>"
      ],
      "text/plain": [
       "       textID                                      selected_text\n",
       "0  f87dea47db  Last session of the day  http://twitpic.com/67ezh\n",
       "1  96d74cb729                                           exciting\n",
       "2  eee518ae67                                          Recession\n",
       "3  01082688c6                                        happy bday!\n",
       "4  33987a8ee5                                        I like it!!"
      ]
     },
     "execution_count": 14,
     "metadata": {},
     "output_type": "execute_result"
    }
   ],
   "source": [
    "df = pd.read_csv('submission.csv')\n",
    "df.head()"
   ]
  },
  {
   "cell_type": "code",
   "execution_count": 16,
   "metadata": {},
   "outputs": [],
   "source": [
    "def random_colours(number_of_colors):\n",
    "    '''\n",
    "    Simple function for random colours generation.\n",
    "    Input:\n",
    "        number_of_colors - integer value indicating the number of colours which are going to be generated.\n",
    "    Output:\n",
    "        Color in the following format: ['#E86DA4'] .\n",
    "    '''\n",
    "    colors = []\n",
    "    for i in range(number_of_colors):\n",
    "        colors.append(\"#\"+''.join([random.choice('0123456789ABCDEF') for j in range(6)]))\n",
    "    return colors"
   ]
  },
  {
   "cell_type": "code",
   "execution_count": 17,
   "metadata": {},
   "outputs": [
    {
     "data": {
      "text/plain": [
       "(3534, 2)"
      ]
     },
     "execution_count": 17,
     "metadata": {},
     "output_type": "execute_result"
    }
   ],
   "source": [
    "df.shape"
   ]
  },
  {
   "cell_type": "code",
   "execution_count": null,
   "metadata": {},
   "outputs": [],
   "source": []
  }
 ],
 "metadata": {
  "kernelspec": {
   "display_name": "Python 3.9.13 ('base')",
   "language": "python",
   "name": "python3"
  },
  "language_info": {
   "codemirror_mode": {
    "name": "ipython",
    "version": 3
   },
   "file_extension": ".py",
   "mimetype": "text/x-python",
   "name": "python",
   "nbconvert_exporter": "python",
   "pygments_lexer": "ipython3",
   "version": "3.9.13"
  },
  "orig_nbformat": 4,
  "vscode": {
   "interpreter": {
    "hash": "380d0b1e46b77d2886c4b45340663065e9626d4d6fec150cfba38cba479413cc"
   }
  }
 },
 "nbformat": 4,
 "nbformat_minor": 2
}
